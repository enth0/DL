{
 "cells": [
  {
   "cell_type": "code",
   "execution_count": 1,
   "metadata": {},
   "outputs": [
    {
     "name": "stderr",
     "output_type": "stream",
     "text": [
      "Using TensorFlow backend.\n"
     ]
    },
    {
     "name": "stdout",
     "output_type": "stream",
     "text": [
      "Downloading data from https://s3.amazonaws.com/img-datasets/mnist.npz\n",
      "11485184/11490434 [============================>.] - ETA: 0s"
     ]
    }
   ],
   "source": [
    "from preprocessed_mnist import load_dataset\n",
    "import matplotlib.pyplot as plt\n",
    "import tensorflow as tf\n",
    "import numpy as np\n",
    "from sklearn.preprocessing import OneHotEncoder\n",
    "from sklearn.utils import shuffle\n",
    "import time\n",
    "\n",
    "X_train, y_train, X_val, y_val, X_test, y_test = load_dataset()\n",
    "\n",
    "#Flattening data\n",
    "X_train, X_val, X_test   = X_train.reshape(-1, 784), X_val.reshape(-1, 784), X_test.reshape(-1, 784)\n",
    "y_train, y_val, y_test = y_train.reshape(-1, 1), y_val.reshape(-1, 1), y_test.reshape(-1, 1)\n",
    "\n",
    "#One Hot encoding\n",
    "enc = OneHotEncoder()\n",
    "enc.fit(y_train)\n",
    "y_train = enc.transform(y_train).toarray()\n",
    "y_val = enc.transform(y_val).toarray()\n",
    "y_test = enc.transform(y_test).toarray()\n",
    "\n",
    "#Drawing mini-batches from training data\n",
    "def random_mini_batches(X_train, y_train, minibatch_size, seed):\n",
    "    X_train, y_train = shuffle(X_train, y_train, random_state=seed)\n",
    "    mini_batches = [(X_train[k:k+minibatch_size,:], y_train[k:k+minibatch_size,:]) \n",
    "                    for k in range(0, X_train.shape[0], minibatch_size)]\n",
    "    \n",
    "    return mini_batches"
   ]
  },
  {
   "cell_type": "code",
   "execution_count": 2,
   "metadata": {
    "collapsed": true
   },
   "outputs": [],
   "source": [
    "def model(X_train, y_train, X_val, y_val, X_test, y_test, \n",
    "          learning_rate = 0.001, \n",
    "          num_epochs = 6,\n",
    "          minibatch_size = 16, \n",
    "          hidden_neurons = 100):\n",
    "    \n",
    "    seed = 0 #mini-batch seed\n",
    "    train_losses = [] #for plotting\n",
    "    test_losses = []\n",
    "    \n",
    "    #Placeholders for the input data\n",
    "    X = tf.placeholder('float32', shape=(None, X_train.shape[1]))\n",
    "    Y = tf.placeholder('float32', shape=(None, 10))\n",
    "    \n",
    "    #Initializing weights and biases\n",
    "    init = tf.contrib.layers.xavier_initializer(seed=0)\n",
    "        \n",
    "    W1 = tf.get_variable('W1', [784, hidden_neurons], initializer = init)\n",
    "    W2 = tf.get_variable('W2', [hidden_neurons, 10], initializer = init)\n",
    "    \n",
    "    b1 = tf.get_variable('b1', [1, hidden_neurons], initializer = init)\n",
    "    b2 = tf.get_variable('b2', [1, 10], initializer = init)    \n",
    "    \n",
    "    #Forward pass    \n",
    "    A1 = tf.nn.relu(tf.matmul(X, W1) + b1)\n",
    "    Z2 = tf.matmul(A1, W2) + b2\n",
    "    \n",
    "    #Calculating loss\n",
    "    loss = tf.reduce_mean(tf.nn.softmax_cross_entropy_with_logits(logits = Z2, labels = Y))\n",
    "    \n",
    "    optimizer = tf.train.AdamOptimizer(learning_rate).minimize(loss)\n",
    "    \n",
    "    init = tf.global_variables_initializer()\n",
    "      \n",
    "    with tf.Session() as sess:     \n",
    "        sess.run(init)\n",
    "        \n",
    "        for epoch in range(num_epochs):             \n",
    "            num_minibatches = int(X_train.shape[0]/minibatch_size)\n",
    "            seed = seed + 1\n",
    "            minibatches = random_mini_batches(X_train, y_train, minibatch_size, seed)\n",
    "            \n",
    "            for minibatch in minibatches:              \n",
    "                (minibatch_X, minibatch_Y) = minibatch\n",
    "                sess.run(optimizer, {X: minibatch_X, Y: minibatch_Y})\n",
    "                \n",
    "            train_loss = sess.run(loss, {X: X_train, Y: y_train})\n",
    "            val_loss = sess.run(loss, {X: X_val, Y: y_val})\n",
    "            test_loss = sess.run(loss, {X: X_test, Y: y_test})\n",
    "            print (\"Epoch %i  train loss: %f  validation loss: %f\" % (epoch, train_loss, val_loss))\n",
    "            train_losses.append(train_loss)\n",
    "            test_losses.append(test_loss)                             \n",
    "       \n",
    "        #Plotting loss\n",
    "        plt.plot(np.squeeze(train_losses))\n",
    "        plt.plot(np.squeeze(test_losses))\n",
    "        plt.ylabel('loss')\n",
    "        plt.xlabel('iterations (per tens)')\n",
    "        plt.title(\"Learning rate =\" + str(learning_rate))\n",
    "        plt.show()\n",
    "        \n",
    "        #Predictions\n",
    "        prediction = tf.argmax(Z2, 1)        \n",
    "        correct_prediction = tf.equal(prediction, tf.argmax(Y, 1))\n",
    "        \n",
    "        #Calculating accuracy on the test set\n",
    "        accuracy = tf.reduce_mean(tf.cast(correct_prediction, 'float'))\n",
    "        train_accuracy = accuracy.eval({X: X_train, Y: y_train})\n",
    "        test_accuracy = accuracy.eval({X: X_test, Y: y_test})\n",
    "        print(\"Train Accuracy:\", train_accuracy)\n",
    "        print(\"Test Accuracy:\", test_accuracy)"
   ]
  },
  {
   "cell_type": "code",
   "execution_count": 3,
   "metadata": {},
   "outputs": [
    {
     "name": "stdout",
     "output_type": "stream",
     "text": [
      "Epoch 0  train loss: 0.255136  validation loss: 0.241552\n",
      "Epoch 1  train loss: 0.185630  validation loss: 0.180846\n",
      "Epoch 2  train loss: 0.147807  validation loss: 0.151466\n",
      "Epoch 3  train loss: 0.122698  validation loss: 0.132958\n",
      "Epoch 4  train loss: 0.102262  validation loss: 0.118010\n",
      "Epoch 5  train loss: 0.089234  validation loss: 0.108518\n",
      "Epoch 6  train loss: 0.076817  validation loss: 0.101548\n",
      "Epoch 7  train loss: 0.066998  validation loss: 0.096988\n",
      "Epoch 8  train loss: 0.063401  validation loss: 0.096358\n",
      "Epoch 9  train loss: 0.053083  validation loss: 0.090188\n",
      "Epoch 10  train loss: 0.048313  validation loss: 0.089297\n",
      "Epoch 11  train loss: 0.041713  validation loss: 0.083673\n",
      "Epoch 12  train loss: 0.040943  validation loss: 0.088650\n",
      "Epoch 13  train loss: 0.034247  validation loss: 0.082668\n",
      "Epoch 14  train loss: 0.032466  validation loss: 0.081341\n",
      "Epoch 15  train loss: 0.027829  validation loss: 0.078748\n",
      "Epoch 16  train loss: 0.025760  validation loss: 0.079865\n",
      "Epoch 17  train loss: 0.022556  validation loss: 0.081195\n",
      "Epoch 18  train loss: 0.021387  validation loss: 0.081429\n",
      "Epoch 19  train loss: 0.017629  validation loss: 0.078962\n"
     ]
    },
    {
     "data": {
      "image/png": "[encoded data removed]",
      "text/plain": [
       "<matplotlib.figure.Figure at 0x7f28ed165588>"
      ]
     },
     "metadata": {},
     "output_type": "display_data"
    },
    {
     "name": "stdout",
     "output_type": "stream",
     "text": [
      "Train Accuracy: 0.99706\n",
      "Test Accuracy: 0.9785\n",
      "Training time: 2.8 minutes\n"
     ]
    }
   ],
   "source": [
    "tf.reset_default_graph()\n",
    "\n",
    "tick = time.time()\n",
    "\n",
    "model(X_train, y_train, X_val, y_val, X_test, y_test, \n",
    "      learning_rate= 0.0002, \n",
    "      num_epochs = 20,\n",
    "      minibatch_size = 16, \n",
    "      hidden_neurons = 100)\n",
    "\n",
    "tock = time.time()\n",
    "\n",
    "print(\"Training time: %2.1f minutes\"%((tock-tick)/60))"
   ]
  },
  {
   "cell_type": "code",
   "execution_count": null,
   "metadata": {
    "collapsed": true
   },
   "outputs": [],
   "source": []
  }
 ],
 "metadata": {
  "kernelspec": {
   "display_name": "Python 3",
   "language": "python",
   "name": "python3"
  },
  "language_info": {
   "codemirror_mode": {
    "name": "ipython",
    "version": 3
   },
   "file_extension": ".py",
   "mimetype": "text/x-python",
   "name": "python",
   "nbconvert_exporter": "python",
   "pygments_lexer": "ipython3",
   "version": "3.6.2"
  }
 },
 "nbformat": 4,
 "nbformat_minor": 2
}
